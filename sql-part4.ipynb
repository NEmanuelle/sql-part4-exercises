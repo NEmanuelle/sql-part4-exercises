{
    "metadata": {
        "kernelspec": {
            "name": "SQL",
            "display_name": "SQL",
            "language": "sql"
        },
        "language_info": {
            "name": "sql",
            "version": ""
        }
    },
    "nbformat_minor": 2,
    "nbformat": 4,
    "cells": [
        {
            "cell_type": "markdown",
            "source": [
                "# Exercises: Complex queries\n",
                "\n",
                "For the exercises, you are tasked with writing five queries that will help you delve deeper into BooksDB. You can choose whether you want to use a correlated subquery, a nested subquery, the UNION operator, the INTERSECT operator, or the EXCEPT operator for each one. You may not use joins or add multiple statements to the WHERE clause.\n",
                "\n",
                "1. Write a query that will return the number of users who rated a book above it's average rating."
            ],
            "metadata": {
                "azdata_cell_guid": "10006a10-882f-4f55-8d42-f36044fdb6c7"
            },
            "attachments": {}
        },
        {
            "cell_type": "code",
            "source": [
                "--Sloved using join for comparison\n",
                "SELECT COUNT(user_id) AS 'user ratings above average'\n",
                "FROM books AS b\n",
                "LEFT JOIN ratings AS r\n",
                "ON b.book_id = r.book_id\n",
                "WHERE b.average_rating < r.rating;\n",
                "\n",
                "--Using sub query\n",
                "SELECT COUNT(user_id) AS \"user ratings above average\"\n",
                "FROM ratings \n",
                "WHERE rating > (SELECT average_rating FROM books WHERE ratings.book_id = books.book_id);"
            ],
            "metadata": {
                "azdata_cell_guid": "203eb95e-6585-435f-8a8e-bfa0dfe6f7c0",
                "tags": [],
                "language": "sql"
            },
            "outputs": [
                {
                    "output_type": "display_data",
                    "data": {
                        "text/html": "(1 row affected)"
                    },
                    "metadata": {}
                },
                {
                    "output_type": "display_data",
                    "data": {
                        "text/html": "(1 row affected)"
                    },
                    "metadata": {}
                },
                {
                    "output_type": "display_data",
                    "data": {
                        "text/html": "Total execution time: 00:00:00.589"
                    },
                    "metadata": {}
                },
                {
                    "output_type": "execute_result",
                    "metadata": {},
                    "execution_count": 30,
                    "data": {
                        "application/vnd.dataresource+json": {
                            "schema": {
                                "fields": [
                                    {
                                        "name": "user ratings above average"
                                    }
                                ]
                            },
                            "data": [
                                {
                                    "0": "40960"
                                }
                            ]
                        },
                        "text/html": [
                            "<table>",
                            "<tr><th>user ratings above average</th></tr>",
                            "<tr><td>40960</td></tr>",
                            "</table>"
                        ]
                    }
                },
                {
                    "output_type": "execute_result",
                    "metadata": {},
                    "execution_count": 30,
                    "data": {
                        "application/vnd.dataresource+json": {
                            "schema": {
                                "fields": [
                                    {
                                        "name": "user ratings above average"
                                    }
                                ]
                            },
                            "data": [
                                {
                                    "0": "40960"
                                }
                            ]
                        },
                        "text/html": [
                            "<table>",
                            "<tr><th>user ratings above average</th></tr>",
                            "<tr><td>40960</td></tr>",
                            "</table>"
                        ]
                    }
                }
            ],
            "execution_count": 30
        },
        {
            "cell_type": "markdown",
            "source": [
                "2. Write a query that returns the book ids of all books that have over 1000 ratings of 1 star or over 1000 ratings of 5 stars."
            ],
            "metadata": {
                "azdata_cell_guid": "7f849931-6c9c-4cd9-b3ba-66871052673d"
            },
            "attachments": {}
        },
        {
            "cell_type": "code",
            "source": [
                "SELECT COUNT(rating) AS rating_count, book_id\n",
                "FROM ratings\n",
                "WHERE rating =1\n",
                "GROUP BY book_id\n",
                "HAVING COUNT(rating) >1000\n",
                "UNION\n",
                "SELECT COUNT(rating) AS rating_count, book_id\n",
                "FROM ratings\n",
                "WHERE rating = 5\n",
                "GROUP BY book_id\n",
                "HAVING COUNT(rating) >1000;\n",
                ""
            ],
            "metadata": {
                "azdata_cell_guid": "bce732e3-1590-457b-b1f9-5319345ff790",
                "language": "sql"
            },
            "outputs": [
                {
                    "output_type": "display_data",
                    "data": {
                        "text/html": "(0 rows affected)"
                    },
                    "metadata": {}
                },
                {
                    "output_type": "display_data",
                    "data": {
                        "text/html": "Total execution time: 00:00:00.315"
                    },
                    "metadata": {}
                },
                {
                    "output_type": "execute_result",
                    "metadata": {},
                    "execution_count": 122,
                    "data": {
                        "application/vnd.dataresource+json": {
                            "schema": {
                                "fields": [
                                    {
                                        "name": "rating_count"
                                    },
                                    {
                                        "name": "book_id"
                                    }
                                ]
                            },
                            "data": []
                        },
                        "text/html": [
                            "<table>",
                            "<tr><th>rating_count</th><th>book_id</th></tr>",
                            "</table>"
                        ]
                    }
                }
            ],
            "execution_count": 122
        },
        {
            "cell_type": "markdown",
            "source": [
                "3. Write a query that returns the book ids of all books that have over 1000 ratings of 1 star and over 1000 ratings of 5 stars."
            ],
            "metadata": {
                "azdata_cell_guid": "9c53b866-c8e8-465e-b089-7702b191a15e"
            },
            "attachments": {}
        },
        {
            "cell_type": "code",
            "source": [
                "SELECT book_id\n",
                "FROM ratings WHERE \n",
                "(SELECT COUNT (rating)\n",
                "FROM ratings\n",
                "GROUP BY book_id, ratings.rating\n",
                "HAVING rating = 1 AND rating = 5 ) > 1000;"
            ],
            "metadata": {
                "azdata_cell_guid": "43e39973-5a29-45ff-b2a9-9c658a19c296",
                "language": "sql"
            },
            "outputs": [
                {
                    "output_type": "display_data",
                    "data": {
                        "text/html": "(0 rows affected)"
                    },
                    "metadata": {}
                },
                {
                    "output_type": "display_data",
                    "data": {
                        "text/html": "Total execution time: 00:00:00.032"
                    },
                    "metadata": {}
                },
                {
                    "output_type": "execute_result",
                    "metadata": {},
                    "execution_count": 105,
                    "data": {
                        "application/vnd.dataresource+json": {
                            "schema": {
                                "fields": [
                                    {
                                        "name": "book_id"
                                    }
                                ]
                            },
                            "data": []
                        },
                        "text/html": [
                            "<table>",
                            "<tr><th>book_id</th></tr>",
                            "</table>"
                        ]
                    }
                }
            ],
            "execution_count": 105
        },
        {
            "cell_type": "markdown",
            "source": [
                "4. Write a query that returns the book ids of books that have a language code of \"en-US\" and not a langugae code of \"en-GB\"."
            ],
            "metadata": {
                "azdata_cell_guid": "2bd4844b-83af-490f-97cd-fdc1fa2944ec"
            },
            "attachments": {}
        },
        {
            "cell_type": "code",
            "source": [
                "SELECT TOP 10 book_id\n",
                "FROM books\n",
                "WHERE language_code ='en-US'\n",
                "EXCEPT\n",
                "SELECT book_id\n",
                "FROM books\n",
                "WHERE language_code ='en-GB';"
            ],
            "metadata": {
                "azdata_cell_guid": "ba5a1b61-19c0-4d70-ae8d-2daae6ae1e21",
                "language": "sql"
            },
            "outputs": [
                {
                    "output_type": "display_data",
                    "data": {
                        "text/html": "(10 rows affected)"
                    },
                    "metadata": {}
                },
                {
                    "output_type": "display_data",
                    "data": {
                        "text/html": "Total execution time: 00:00:00.048"
                    },
                    "metadata": {}
                },
                {
                    "output_type": "execute_result",
                    "metadata": {},
                    "execution_count": 57,
                    "data": {
                        "application/vnd.dataresource+json": {
                            "schema": {
                                "fields": [
                                    {
                                        "name": "book_id"
                                    }
                                ]
                            },
                            "data": [
                                {
                                    "0": "11"
                                },
                                {
                                    "0": "1934"
                                },
                                {
                                    "0": "5907"
                                },
                                {
                                    "0": "37435"
                                },
                                {
                                    "0": "41865"
                                },
                                {
                                    "0": "113436"
                                },
                                {
                                    "0": "428263"
                                },
                                {
                                    "0": "1162543"
                                },
                                {
                                    "0": "1656001"
                                },
                                {
                                    "0": "6442769"
                                }
                            ]
                        },
                        "text/html": [
                            "<table>",
                            "<tr><th>book_id</th></tr>",
                            "<tr><td>11</td></tr>",
                            "<tr><td>1934</td></tr>",
                            "<tr><td>5907</td></tr>",
                            "<tr><td>37435</td></tr>",
                            "<tr><td>41865</td></tr>",
                            "<tr><td>113436</td></tr>",
                            "<tr><td>428263</td></tr>",
                            "<tr><td>1162543</td></tr>",
                            "<tr><td>1656001</td></tr>",
                            "<tr><td>6442769</td></tr>",
                            "</table>"
                        ]
                    }
                }
            ],
            "execution_count": 57
        },
        {
            "cell_type": "markdown",
            "source": [
                "5. Write a query that returns the names of the tags and the tag ids for tags that were used over 100,000 times for a book. "
            ],
            "metadata": {
                "azdata_cell_guid": "6ddd588f-a84c-4c77-93ac-e8c8bd21d0f5"
            },
            "attachments": {}
        },
        {
            "cell_type": "code",
            "source": [
                "    SELECT TOP 10 tag_name, tag_id \n",
                "    FROM tags\n",
                "    WHERE\n",
                "    (SELECT SUM(count) \n",
                "    FROM book_tags\n",
                "    WHERE book_tags.tag_id = tags.tag_id\n",
                "    GROUP BY tag_id) > 100000\n",
                "    ORDER BY tag_name ASC;\n",
                "   "
            ],
            "metadata": {
                "azdata_cell_guid": "90f61ad7-65cb-4ea8-85a3-d8c815cfe347",
                "tags": [],
                "language": "sql"
            },
            "outputs": [
                {
                    "output_type": "display_data",
                    "data": {
                        "text/html": "(10 rows affected)"
                    },
                    "metadata": {}
                },
                {
                    "output_type": "display_data",
                    "data": {
                        "text/html": "Total execution time: 00:00:00.183"
                    },
                    "metadata": {}
                },
                {
                    "output_type": "execute_result",
                    "metadata": {},
                    "execution_count": 83,
                    "data": {
                        "application/vnd.dataresource+json": {
                            "schema": {
                                "fields": [
                                    {
                                        "name": "tag_name"
                                    },
                                    {
                                        "name": "tag_id"
                                    }
                                ]
                            },
                            "data": [
                                {
                                    "0": "abandoned",
                                    "1": "1416"
                                },
                                {
                                    "0": "adult",
                                    "1": "1642"
                                },
                                {
                                    "0": "adult-fiction",
                                    "1": "1659"
                                },
                                {
                                    "0": "adventure",
                                    "1": "1691"
                                },
                                {
                                    "0": "all-time-favorites",
                                    "1": "2104"
                                },
                                {
                                    "0": "audible",
                                    "1": "3358"
                                },
                                {
                                    "0": "audio",
                                    "1": "3371"
                                },
                                {
                                    "0": "audiobook",
                                    "1": "3389"
                                },
                                {
                                    "0": "audiobooks",
                                    "1": "3392"
                                },
                                {
                                    "0": "biography",
                                    "1": "4605"
                                }
                            ]
                        },
                        "text/html": [
                            "<table>",
                            "<tr><th>tag_name</th><th>tag_id</th></tr>",
                            "<tr><td>abandoned</td><td>1416</td></tr>",
                            "<tr><td>adult</td><td>1642</td></tr>",
                            "<tr><td>adult-fiction</td><td>1659</td></tr>",
                            "<tr><td>adventure</td><td>1691</td></tr>",
                            "<tr><td>all-time-favorites</td><td>2104</td></tr>",
                            "<tr><td>audible</td><td>3358</td></tr>",
                            "<tr><td>audio</td><td>3371</td></tr>",
                            "<tr><td>audiobook</td><td>3389</td></tr>",
                            "<tr><td>audiobooks</td><td>3392</td></tr>",
                            "<tr><td>biography</td><td>4605</td></tr>",
                            "</table>"
                        ]
                    }
                }
            ],
            "execution_count": 83
        },
        {
            "cell_type": "code",
            "source": [
                ""
            ],
            "metadata": {
                "language": "sql",
                "azdata_cell_guid": "dcb3b541-7bec-4a8b-97ab-7ddcca9384d4"
            },
            "outputs": [],
            "execution_count": null
        }
    ]
}